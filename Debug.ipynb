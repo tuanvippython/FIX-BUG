{
 "cells": [
  {
   "cell_type": "markdown",
   "id": "cd86dbab",
   "metadata": {},
   "source": [
    "# CODE A"
   ]
  },
  {
   "cell_type": "code",
   "execution_count": 6,
   "id": "15dea1c9",
   "metadata": {},
   "outputs": [],
   "source": [
    "import numpy as np\n",
    "\n",
    "X = np.array([ [100.0], [200.0], [300.0], [100.0], [200.0], [300.0]])\n",
    "y = np.array([1000.0, 2000.0, 3000.0,1000.0, 2000.0, 3000.0 ])\n"
   ]
  },
  {
   "cell_type": "code",
   "execution_count": 7,
   "id": "ff7912dd",
   "metadata": {},
   "outputs": [],
   "source": [
    "class LinearRegression:\n",
    "    def __init__(self, learning_rate=0.001, n_iters=100):\n",
    "        self.lr = learning_rate\n",
    "        self.n_iters = n_iters\n",
    "        self.weights = None\n",
    "        self.bias = None\n",
    "        \n",
    "    def min_max_normalize(self, data):\n",
    "        min_val = np.min(data)\n",
    "        max_val = np.max(data)\n",
    "        normalized_data = (data - min_val) / (max_val - min_val)\n",
    "        return normalized_data\n",
    "        \n",
    "    def fit(self, X, y):\n",
    "        n_samples, n_features = X.shape\n",
    "\n",
    "        # init parameters\n",
    "        self.weights = np.zeros(n_features)\n",
    "        self.bias = 0\n",
    "        \n",
    "        # gradient descent\n",
    "        for _ in range(self.n_iters):\n",
    "            y_predicted = np.dot(X, self.weights) + self.bias\n",
    "            # compute gradients\n",
    "            dw = (1.0 / n_samples) * np.dot(X.T, (y_predicted - y))\n",
    "            db = (1.0 / n_samples) * np.sum(y_predicted - y)\n",
    "\n",
    "            # update parameters\n",
    "            self.weights -= self.lr * dw\n",
    "            self.bias -= self.lr * db\n",
    "    \n",
    "    def predict(self, X):\n",
    "        y_approximated = np.dot(X, self.weights) + self.bias\n",
    "        return y_approximated\n",
    "            \n",
    "\n"
   ]
  },
  {
   "cell_type": "code",
   "execution_count": 8,
   "id": "838f2617",
   "metadata": {},
   "outputs": [
    {
     "name": "stdout",
     "output_type": "stream",
     "text": [
      "Weights: [802.25345898]\n",
      "Bias: 1095.2888741526021\n",
      "Kết quả dự đoán: \n",
      " [1095.28887415 1496.41560364 1897.54233313 1095.28887415 1496.41560364\n",
      " 1897.54233313]\n"
     ]
    }
   ],
   "source": [
    "\n",
    "# Tạo một phiên bản của lớp LinearRegression\n",
    "model = LinearRegression(learning_rate=0.001, n_iters=1000)\n",
    "# Chuẩn hóa dữ liệu\n",
    "X_normalized = model.min_max_normalize(X)\n",
    "\n",
    "\n",
    "# Huấn luyện mô hình trên dữ liệu\n",
    "model.fit(X_normalized, y)\n",
    "\n",
    "# Sau khi huấn luyện, bạn có thể truy cập các tham số đã học được như sau:\n",
    "print(\"Weights:\", model.weights)\n",
    "print(\"Bias:\", model.bias)\n",
    "\n",
    "# Gọi hàm predict để dự đoán kết quả\n",
    "predictions = model.predict(X_normalized)\n",
    "print(\"Kết quả dự đoán: \\n\",predictions)"
   ]
  },
  {
   "cell_type": "code",
   "execution_count": 49,
   "id": "0d6ae68c",
   "metadata": {},
   "outputs": [
    {
     "name": "stdout",
     "output_type": "stream",
     "text": [
      "R-squared: 0.26095493948769277\n"
     ]
    }
   ],
   "source": [
    "from sklearn.metrics import r2_score\n",
    "\n",
    "r2 = r2_score(y, predictions)\n",
    "print(\"R-squared:\", r2)\n"
   ]
  },
  {
   "cell_type": "markdown",
   "id": "63dcccfd",
   "metadata": {},
   "source": [
    "# Lỗi 1: Weights và Bias có giá trị là nan\n",
    "## Cách fix: Chuẩn hóa dữ liệu đầu vào"
   ]
  },
  {
   "cell_type": "markdown",
   "id": "a8db4915",
   "metadata": {},
   "source": [
    "# CODE B"
   ]
  },
  {
   "cell_type": "code",
   "execution_count": 9,
   "id": "5cca59f3",
   "metadata": {},
   "outputs": [],
   "source": [
    "import numpy as np\n",
    "# Hoặc tự định nghĩa:\n",
    "X = np.array([ [100.0], [200.0], [300.0], [100.0], [200.0], [300.0]])\n",
    "y = np.array([1000.0, 2000.0, 3000.0,1000.0, 2000.0, 3000.0 ])\n"
   ]
  },
  {
   "cell_type": "code",
   "execution_count": 10,
   "id": "ba9a8d13",
   "metadata": {},
   "outputs": [],
   "source": [
    "\n",
    "class Perceptron(object):\n",
    "    \"\"\"Perceptron classifier.\n",
    "\n",
    "    Parameters\n",
    "    ------------\n",
    "    eta : float\n",
    "      Learning rate (between 0.0 and 1.0)\n",
    "    n_iter : int\n",
    "      Passes over the training dataset.\n",
    "    random_state : int\n",
    "      Random number generator seed for random weight\n",
    "      initialization.\n",
    "\n",
    "    Attributes\n",
    "    -----------\n",
    "    w_ : 1d-array\n",
    "      Weights after fitting.\n",
    "    errors_ : list\n",
    "      Number of misclassifications (updates) in each epoch.\n",
    "\n",
    "    \"\"\"\n",
    "    def __init__(self, eta=0.01, n_iter=50, random_state=1):\n",
    "        self.eta = eta\n",
    "        self.n_iter = n_iter\n",
    "        self.random_state = random_state\n",
    "    \n",
    "    def min_max_normalize(self, data):\n",
    "        min_val = np.min(data)\n",
    "        max_val = np.max(data)\n",
    "        normalized_data = (data - min_val) / (max_val - min_val)\n",
    "        return normalized_data\n",
    "        \n",
    "\n",
    "    def fit(self, X, y):\n",
    "        \"\"\"Fit training data.\n",
    "\n",
    "        Parameters\n",
    "        ----------\n",
    "        X : {array-like}, shape = [n_samples, n_features]\n",
    "          Training vectors, where n_samples is the number of samples and\n",
    "          n_features is the number of features.\n",
    "        y : array-like, shape = [n_samples]\n",
    "          Target values.\n",
    "\n",
    "        Returns\n",
    "        -------\n",
    "        self : object\n",
    "\n",
    "        \"\"\"\n",
    "        rgen = np.random.RandomState(self.random_state)\n",
    "        self.w_ = rgen.normal(loc=0.0, scale=0.01, size=1 + X.shape[1])\n",
    "        self.errors_ = []\n",
    "\n",
    "        for _ in range(self.n_iter):\n",
    "            errors = 0\n",
    "            for xi, target in zip(X, y):\n",
    "                update = self.eta * (target - self.predict(xi))\n",
    "                self.w_[1:] += update * xi\n",
    "                self.w_[0] += update\n",
    "                errors += int(update != 0.0)\n",
    "            self.errors_.append(errors)\n",
    "        return self\n",
    "\n",
    "    def net_input(self, X):\n",
    "        \"\"\"Calculate net input\"\"\"\n",
    "        return np.dot(X, self.w_[1:]) + self.w_[0]\n",
    "\n",
    "    def predict(self, X):\n",
    "        \"\"\"Return class label after unit step\"\"\"\n",
    "        return np.where(self.net_input(X) >= 0.0, 1, -1)"
   ]
  },
  {
   "cell_type": "code",
   "execution_count": 11,
   "id": "63f94552",
   "metadata": {},
   "outputs": [
    {
     "name": "stdout",
     "output_type": "stream",
     "text": [
      "Weights: [  11994.21624345 2798819.99388244]\n",
      "Errors: [6, 6, 6, 6, 6, 6, 6, 6, 6, 6]\n",
      "Predictions: [1 1 1 1 1 1]\n"
     ]
    }
   ],
   "source": [
    "# Chuẩn hóa dữ liệu\n",
    "X_normalized = model.min_max_normalize(X)\n",
    "# Tạo một phiên bản của lớp Perceptron\n",
    "ppn = Perceptron(eta=0.1, n_iter=10)\n",
    "\n",
    "# Huấn luyện mô hình trên dữ liệu\n",
    "ppn.fit(X, y)\n",
    "\n",
    "# In các thông số sau khi huấn luyện\n",
    "print(\"Weights:\", ppn.w_)\n",
    "print(\"Errors:\", ppn.errors_)\n",
    "\n",
    "# Dự đoán nhãn của các mẫu trong dữ liệu\n",
    "predictions = ppn.predict(X)\n",
    "print(\"Predictions:\", predictions)"
   ]
  },
  {
   "cell_type": "code",
   "execution_count": 12,
   "id": "c3e1bda1",
   "metadata": {},
   "outputs": [
    {
     "name": "stdout",
     "output_type": "stream",
     "text": [
      "Accuracy: 0.0 %\n"
     ]
    }
   ],
   "source": [
    "# Tính độ chính xác\n",
    "accuracy = np.mean(predictions == y) * 100\n",
    "print(\"Accuracy:\", accuracy, \"%\")\n"
   ]
  },
  {
   "cell_type": "markdown",
   "id": "5812e586",
   "metadata": {},
   "source": [
    "# NHÁP"
   ]
  },
  {
   "cell_type": "code",
   "execution_count": 44,
   "id": "a76eef95",
   "metadata": {},
   "outputs": [
    {
     "name": "stdout",
     "output_type": "stream",
     "text": [
      "Weights: [-0.61776932  0.39826586 -0.1921519 ]\n",
      "Errors: [2, 2, 2, 1, 2, 2, 1, 2, 2, 1]\n",
      "Predictions: [-1  1  1]\n"
     ]
    }
   ],
   "source": [
    "import numpy as np\n",
    "\n",
    "class Perceptron(object):\n",
    "    \"\"\"Perceptron classifier.\n",
    "\n",
    "    Parameters\n",
    "    ------------\n",
    "    eta : float\n",
    "      Learning rate (between 0.0 and 1.0)\n",
    "    n_iter : int\n",
    "      Passes over the training dataset.\n",
    "    random_state : int\n",
    "      Random number generator seed for random weight\n",
    "      initialization.\n",
    "\n",
    "    Attributes\n",
    "    -----------\n",
    "    w_ : 1d-array\n",
    "      Weights after fitting.\n",
    "    errors_ : list\n",
    "      Number of misclassifications (updates) in each epoch.\n",
    "\n",
    "    \"\"\"\n",
    "    def __init__(self, eta=0.01, n_iter=50, random_state=None):\n",
    "        self.eta = eta\n",
    "        self.n_iter = n_iter\n",
    "        self.random_state = random_state\n",
    "        self.w_ = None\n",
    "        self.errors_ = None\n",
    "\n",
    "    def fit(self, X, y):\n",
    "        \"\"\"Fit training data.\n",
    "\n",
    "        Parameters\n",
    "        ----------\n",
    "        X : {array-like}, shape = [n_samples, n_features]\n",
    "          Training vectors, where n_samples is the number of samples and\n",
    "          n_features is the number of features.\n",
    "        y : array-like, shape = [n_samples]\n",
    "          Target values.\n",
    "\n",
    "        Returns\n",
    "        -------\n",
    "        self : object\n",
    "\n",
    "        \"\"\"\n",
    "        rgen = np.random.RandomState(self.random_state)\n",
    "        self.w_ = rgen.normal(loc=0.0, scale=0.01, size=1 + X.shape[1])\n",
    "        self.errors_ = []\n",
    "\n",
    "        for _ in range(self.n_iter):\n",
    "            errors = 0\n",
    "            for xi, target in zip(X, y):\n",
    "                update = self.eta * (target - self.predict(xi))\n",
    "                self.w_[1:] += update * xi\n",
    "                self.w_[0] += update\n",
    "                errors += int(update != 0.0)\n",
    "            self.errors_.append(errors)\n",
    "        return self\n",
    "\n",
    "    def net_input(self, X):\n",
    "        \"\"\"Calculate net input\"\"\"\n",
    "        return np.dot(X, self.w_[1:]) + self.w_[0]\n",
    "\n",
    "    def predict(self, X):\n",
    "        \"\"\"Return class label after unit step\"\"\"\n",
    "        return np.where(self.net_input(X) >= 0.0, 1, -1)\n",
    "\n",
    "# Tạo một phiên bản của lớp Perceptron\n",
    "ppn = Perceptron(eta=0.1, n_iter=10)\n",
    "\n",
    "# Dữ liệu mẫu để huấn luyện\n",
    "X = np.array([[2, 3], [4, 5], [6, 7]])\n",
    "y = np.array([1, -1, 1])\n",
    "\n",
    "# Huấn luyện mô hình trên dữ liệu\n",
    "ppn.fit(X, y)\n",
    "\n",
    "# In các thông số sau khi huấn luyện\n",
    "print(\"Weights:\", ppn.w_)\n",
    "print(\"Errors:\", ppn.errors_)\n",
    "\n",
    "# Dự đoán nhãn của các mẫu trong dữ liệu\n",
    "predictions = ppn.predict(X)\n",
    "print(\"Predictions:\", predictions)\n"
   ]
  },
  {
   "cell_type": "code",
   "execution_count": 45,
   "id": "67717258",
   "metadata": {},
   "outputs": [
    {
     "name": "stdout",
     "output_type": "stream",
     "text": [
      "Accuracy: 33.33333333333333 %\n"
     ]
    }
   ],
   "source": [
    "# Tính độ chính xác của mô hình\n",
    "accuracy = np.mean(predictions == y) * 100\n",
    "print(\"Accuracy:\", accuracy, \"%\")\n"
   ]
  }
 ],
 "metadata": {
  "kernelspec": {
   "display_name": "Python 3 (ipykernel)",
   "language": "python",
   "name": "python3"
  },
  "language_info": {
   "codemirror_mode": {
    "name": "ipython",
    "version": 3
   },
   "file_extension": ".py",
   "mimetype": "text/x-python",
   "name": "python",
   "nbconvert_exporter": "python",
   "pygments_lexer": "ipython3",
   "version": "3.11.5"
  }
 },
 "nbformat": 4,
 "nbformat_minor": 5
}
